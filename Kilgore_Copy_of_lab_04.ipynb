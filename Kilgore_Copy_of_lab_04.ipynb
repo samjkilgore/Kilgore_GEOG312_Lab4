{
  "cells": [
    {
      "cell_type": "markdown",
      "metadata": {
        "id": "KSevWsVHXAW-"
      },
      "source": [
        "[![image](https://colab.research.google.com/assets/colab-badge.svg)](https://colab.research.google.com/github/giswqs/geog-312/blob/master/labs/lab_04.ipynb)\n",
        "[![image](https://binder.pangeo.io/badge_logo.svg)](https://gishub.org/geog312-pangeo)\n",
        "\n",
        "**Sam Kilgore**"
      ]
    },
    {
      "cell_type": "code",
      "execution_count": null,
      "metadata": {
        "id": "eqs6r80VXAXC"
      },
      "outputs": [],
      "source": [
        "from datetime import datetime\n",
        "\n",
        "now = datetime.now()\n",
        "print(f\"Submitted : {now}\")"
      ]
    },
    {
      "cell_type": "markdown",
      "metadata": {
        "id": "xQthViF8XAXD"
      },
      "source": [
        "## Question 1\n",
        "**Alien Colors # 1:** Imagine an alien was just shot down in a game. Create a variable called `alien_color` and assign it a value of `green, yellow,` or `red`.\n",
        "\n",
        "* Write an if statement to test whether the alien’s color is green. If it is, print a message that the player just earned 5 points.\n",
        "* Write one version of this program that passes the if test and another that fails. (The version that fails will have no output.)"
      ]
    },
    {
      "cell_type": "code",
      "execution_count": null,
      "metadata": {
        "id": "udKRBIvSXAXD",
        "colab": {
          "base_uri": "https://localhost:8080/"
        },
        "outputId": "c7baee48-4262-40bb-83de-bf7412883231"
      },
      "outputs": [
        {
          "output_type": "stream",
          "name": "stdout",
          "text": [
            "You just earned 5 points!\n"
          ]
        }
      ],
      "source": [
        "alien_color = \"green\"\n",
        "if alien_color == \"green\":\n",
        "  print(\"You just earned 5 points!\")\n",
        "if alien_color == \"red\":\n",
        "  print(\"You just earned 5 points!\")"
      ]
    },
    {
      "cell_type": "markdown",
      "metadata": {
        "id": "BLhVDvXFXAXE"
      },
      "source": [
        "## Question 2\n",
        "**Alien Colors # 2:** Choose a color for an alien as you did in Question 1, and write an `if-else` chain.\n",
        "\n",
        "* If the alien’s color is green, print a statement that the player just earned 5 points for shooting the alien.\n",
        "* If the alien’s color isn’t green, print a statement that the player just earned 10 points.\n",
        "* Write one version of this program that runs the if block and another that runs the else block."
      ]
    },
    {
      "cell_type": "code",
      "execution_count": null,
      "metadata": {
        "id": "0WD6NLlbXAXE",
        "colab": {
          "base_uri": "https://localhost:8080/"
        },
        "outputId": "2cdbe419-753d-46d2-9687-1c1118332657"
      },
      "outputs": [
        {
          "output_type": "stream",
          "name": "stdout",
          "text": [
            "You just earned 5 points!\n",
            "You just earned 10 points!\n"
          ]
        }
      ],
      "source": [
        "alien_color = \"green\"\n",
        "\n",
        "if alien_color == \"green\":\n",
        "  print(\"You just earned 5 points!\")\n",
        "else:\n",
        "  print(\"You just earned 10 points!\")\n",
        "\n",
        "alien_color = \"blue\"\n",
        "\n",
        "if alien_color == \"green\":\n",
        "  print(\"You just earned 5 points!\")\n",
        "else:\n",
        "  print(\"You just earned 10 points!\")"
      ]
    },
    {
      "cell_type": "markdown",
      "metadata": {
        "id": "4x1L9JLlXAXE"
      },
      "source": [
        "\n",
        "## Question 3\n",
        "**Alien Colors # 3:** Turn your `if-else` chain from Question 2 into an `if-elif-else` chain.\n",
        "\n",
        "* If the alien is green, print a message that the player earned 5 points.\n",
        "* If the alien is yellow, print a message that the player earned 10 points.\n",
        "* If the alien is red, print a message that the player earned 15 points.\n",
        "* Write three versions of this program, making sure each message is printed for the appropriate color alien."
      ]
    },
    {
      "cell_type": "code",
      "execution_count": null,
      "metadata": {
        "id": "nLySaHkGXAXF",
        "colab": {
          "base_uri": "https://localhost:8080/"
        },
        "outputId": "7972e17b-751a-45f4-b2b6-bef054c6ab80"
      },
      "outputs": [
        {
          "output_type": "stream",
          "name": "stdout",
          "text": [
            "You just earned 5 points!\n",
            "you just earned 10 points!\n",
            "You just earned 15 points!\n"
          ]
        }
      ],
      "source": [
        "alien_color = \"green\"\n",
        "\n",
        "if alien_color == \"green\":\n",
        "  print(\"You just earned 5 points!\")\n",
        "elif alien_color == \"yellow\":\n",
        "  print(\"you just earned 10 points!\")\n",
        "elif alien_color == \"red\":\n",
        "  print(\"You just earned 15 points!\")\n",
        "\n",
        "alien_color = \"yellow\"\n",
        "\n",
        "if alien_color == \"green\":\n",
        "  print(\"You just earned 5 points!\")\n",
        "elif alien_color == \"yellow\":\n",
        "  print(\"you just earned 10 points!\")\n",
        "elif alien_color == \"red\":\n",
        "  print(\"You just earned 15 points!\")\n",
        "\n",
        "alien_color = \"red\"\n",
        "\n",
        "if alien_color == \"green\":\n",
        "  print(\"You just earned 5 points!\")\n",
        "elif alien_color == \"yellow\":\n",
        "  print(\"you just earned 10 points!\")\n",
        "elif alien_color == \"red\":\n",
        "  print(\"You just earned 15 points!\")"
      ]
    },
    {
      "cell_type": "markdown",
      "metadata": {
        "id": "x79YJIV8XAXF"
      },
      "source": [
        "## Question 4\n",
        "**Stages of Life:** Write an `if-elif-else` chain that determines a person’s stage of life. Set a value for the variable `age`, and then:\n",
        "\n",
        "* If the person is less than 2 years old, print a message that the person is a baby.\n",
        "* If the person is at least 2 years old but less than 4, print a message that the person is a toddler.\n",
        "* If the person is at least 4 years old but less than 13, print a message that the person is a kid.\n",
        "* If the person is at least 13 years old but less than 20, print a message that the person is a teenager.\n",
        "* If the person is at least 20 years old but less than 65, print a message that the person is an adult."
      ]
    },
    {
      "cell_type": "code",
      "execution_count": null,
      "metadata": {
        "id": "GKlGPU-8XAXF",
        "colab": {
          "base_uri": "https://localhost:8080/"
        },
        "outputId": "b6ea95e0-2db7-4604-d953-941b813ef395"
      },
      "outputs": [
        {
          "output_type": "stream",
          "name": "stdout",
          "text": [
            "You are a baby.\n"
          ]
        }
      ],
      "source": [
        "age = 0\n",
        "\n",
        "if age < 2:\n",
        "  print(\"You are a baby.\")\n",
        "elif age < 4:\n",
        "  print(\"You are a toddler.\")\n",
        "elif age < 13:\n",
        "  print(\"You are a teenager.\")\n",
        "elif age < 20:\n",
        "  print(\"You are a teenager.\")\n",
        "elif age < 65:\n",
        "  print(\"You are an adult.\")"
      ]
    },
    {
      "cell_type": "markdown",
      "metadata": {
        "id": "7kZuM4w6XAXF"
      },
      "source": [
        "## Question 5\n",
        "**Favorite Fruit:** Make a list of your favorite fruits, and then write a series of independent `if` statements that check for certain fruits in your list.\n",
        "\n",
        "* Make a list of your three favorite fruits and call it favorite_fruits.\n",
        "* Write five if statements. Each should check whether a certain kind of fruit is in your list. If the fruit is in your list, the if block should print a statement, such as You really like bananas!"
      ]
    },
    {
      "cell_type": "code",
      "source": [
        "favorite_fruits = [\"bananas\", \"strawberries\", \"pineapples\"]\n",
        "if \"bananas\" in favorite_fruits:\n",
        "  print(\"You really like bananas!\")\n",
        "if \"melons\" in favorite_fruits:\n",
        "  print(\"You really like melons!\")\n",
        "if \"kiwis\" in favorite_fruits:\n",
        "  print(\"You really like kiwis!\")\n",
        "if \"strawberries\" in favorite_fruits:\n",
        "  print(\"You really like strawberries!\")\n",
        "if \"pineapples\" in favorite_fruits:\n",
        "  print(\"You really like pineapples!\")"
      ],
      "metadata": {
        "id": "q2dlQnj1sSVS",
        "colab": {
          "base_uri": "https://localhost:8080/"
        },
        "outputId": "e8c6a186-c7a4-446a-dc3f-a8c376a71424"
      },
      "execution_count": 2,
      "outputs": [
        {
          "output_type": "stream",
          "name": "stdout",
          "text": [
            "You really like bananas!\n",
            "You really like strawberries!\n",
            "You really like pineapples!\n"
          ]
        }
      ]
    },
    {
      "cell_type": "code",
      "execution_count": null,
      "metadata": {
        "id": "yVKaYux2XAXG"
      },
      "outputs": [],
      "source": []
    },
    {
      "cell_type": "markdown",
      "metadata": {
        "id": "KvXmUJwrXAXG"
      },
      "source": [
        "## Question 6\n",
        "**Hello Admin:** Make a list of five or more usernames, including the name `admin`. Imagine you are writing code that will print a greeting to each user after they log in to a website. Loop through the list, and print a greeting to each user:\n",
        "\n",
        "* If the username is 'admin', print a special greeting, such as *Hello admin, would you like to see a status report?*\n",
        "* Otherwise, print a generic greeting, such as *Hello Jaden, thank you for logging in again*."
      ]
    },
    {
      "cell_type": "code",
      "execution_count": 3,
      "metadata": {
        "id": "XMWPtJx6XAXG",
        "colab": {
          "base_uri": "https://localhost:8080/"
        },
        "outputId": "2700670e-901a-456c-e2a9-4d523a193302"
      },
      "outputs": [
        {
          "output_type": "stream",
          "name": "stdout",
          "text": [
            "Hello admin, would you like to see a status report?\n",
            "Hello support12, thank you for logging in again.\n",
            "Hello jared8spaghetti, thank you for logging in again.\n",
            "Hello elbowmelbow, thank you for logging in again.\n",
            "Hello bill, thank you for logging in again.\n"
          ]
        }
      ],
      "source": [
        "usernames = [\"admin\", \"support12\", \"jared8spaghetti\", \"elbowmelbow\", \"bill\"]\n",
        "\n",
        "for username in usernames:\n",
        "  if username == \"admin\":\n",
        "    print(\"Hello admin, would you like to see a status report?\")\n",
        "  else:\n",
        "    print(f\"Hello {username}, thank you for logging in again.\")"
      ]
    },
    {
      "cell_type": "markdown",
      "metadata": {
        "id": "XGdWFanzXAXG"
      },
      "source": [
        "## Question 7\n",
        "**No Users:** Based on Question 6, add an `if` test to make sure the list of users is not empty.\n",
        "\n",
        "* If the list is empty, print the message *We need to find some users!*\n",
        "* Remove all of the usernames from your list, and make sure the correct message is printed."
      ]
    },
    {
      "cell_type": "code",
      "execution_count": 6,
      "metadata": {
        "id": "2QumEHp4XAXG",
        "colab": {
          "base_uri": "https://localhost:8080/"
        },
        "outputId": "d6bea10c-98d0-418e-d347-dd6cc386a3e5"
      },
      "outputs": [
        {
          "output_type": "stream",
          "name": "stdout",
          "text": [
            "We need to find some users!\n"
          ]
        }
      ],
      "source": [
        "usernames = []\n",
        "\n",
        "if usernames:\n",
        "  for username in usernames:\n",
        "    if username == \"admin\":\n",
        "      print(\"Hello admin, would you like to see a status report?\")\n",
        "    else:\n",
        "      print(f\"Hello {username}, thank you for logging in again.\")\n",
        "else:\n",
        "  print(\"We need to find some users!\")"
      ]
    },
    {
      "cell_type": "markdown",
      "metadata": {
        "id": "e3ucIy6TXAXH"
      },
      "source": [
        "## Question 8\n",
        "**Checking Usernames:** Do the following to create a program that simulates how websites ensure that everyone has a unique username.\n",
        "\n",
        "* Make a list of five or more usernames called `current_users`.\n",
        "*  Make another list of five usernames called `new_users`. Make sure one or two of the new usernames are also in the `current_users` list.\n",
        "* Loop through the `new_users` list to see if each new username has already been used. If it has, print a message that the person will need to enter a new username. If a username has not been used, print a message saying that the username is available.\n",
        "* Make sure your comparison is case insensitive. If 'John' has been used, 'JOHN' should not be accepted. (To do this, you’ll need to make a copy of `current_users` containing the lowercase versions of all existing users.)"
      ]
    },
    {
      "cell_type": "code",
      "execution_count": 11,
      "metadata": {
        "id": "c1LOLyt4XAXH",
        "colab": {
          "base_uri": "https://localhost:8080/"
        },
        "outputId": "464dd287-469c-4445-c0da-ec4f886a7916"
      },
      "outputs": [
        {
          "output_type": "stream",
          "name": "stdout",
          "text": [
            "This username is available.\n",
            "Please enter a different username.\n",
            "This username is available.\n",
            "This username is available.\n"
          ]
        }
      ],
      "source": [
        "current_users = [\"Ed\", \"Edd\", \"Eddy\", \"Snoopy\", \"Football\"]\n",
        "new_users = [\"Charlie\", \"Ed\"]\n",
        "\n",
        "for new_user in new_users:\n",
        "  if new_user in current_users:\n",
        "    print(\"Please enter a different username.\")\n",
        "  else:\n",
        "    print(\"This username is available.\")\n",
        "#checking case\n",
        "current_users = [user.lower() for user in current_users]\n",
        "\n",
        "for new_user in new_users:\n",
        "  if new_user in current_users:\n",
        "    print(\"Please enter a different username.\")\n",
        "  else:\n",
        "    print(\"This username is available.\")\n"
      ]
    },
    {
      "cell_type": "markdown",
      "metadata": {
        "id": "knjS8p6lXAXH"
      },
      "source": [
        "## Question 9\n",
        "**Ordinal Numbers:** Ordinal numbers indicate their position in a list, such as *1st* or *2nd*. Most ordinal numbers end in *th*, except 1, 2, and 3.\n",
        "\n",
        "* Store the numbers 1 through 9 in a list.\n",
        "* Loop through the list.\n",
        "* Use an `if-elif-else` chain inside the loop to print the proper ordinal ending for each number. Your output should read \"1st 2nd 3rd 4th 5th 6th 7th 8th 9th\", and each result should be on a separate line."
      ]
    },
    {
      "cell_type": "code",
      "execution_count": 23,
      "metadata": {
        "id": "RBsqcLolXAXH",
        "colab": {
          "base_uri": "https://localhost:8080/"
        },
        "outputId": "5a3246cc-f81a-448a-a15d-64daab5a545e"
      },
      "outputs": [
        {
          "output_type": "stream",
          "name": "stdout",
          "text": [
            "1st\n",
            "2nd\n",
            "3rd\n",
            "4th\n",
            "5th\n",
            "6th\n",
            "7th\n",
            "8th\n",
            "9th\n"
          ]
        }
      ],
      "source": [
        "numbers = list(range(1,10))\n",
        "for number in numbers:\n",
        "  if number == 1:\n",
        "    print(\"1st\")\n",
        "  elif number == 2:\n",
        "    print(\"2nd\")\n",
        "  elif number == 3:\n",
        "    print(\"3rd\")\n",
        "  else:\n",
        "    print(f\"{number}th\")"
      ]
    }
  ],
  "metadata": {
    "kernelspec": {
      "display_name": "Python 3 (ipykernel)",
      "language": "python",
      "name": "python3"
    },
    "language_info": {
      "codemirror_mode": {
        "name": "ipython",
        "version": 3
      },
      "file_extension": ".py",
      "mimetype": "text/x-python",
      "name": "python",
      "nbconvert_exporter": "python",
      "pygments_lexer": "ipython3",
      "version": "3.8.10"
    },
    "colab": {
      "provenance": []
    }
  },
  "nbformat": 4,
  "nbformat_minor": 0
}